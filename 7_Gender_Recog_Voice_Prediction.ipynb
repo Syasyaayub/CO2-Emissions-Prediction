{
  "nbformat": 4,
  "nbformat_minor": 0,
  "metadata": {
    "colab": {
      "provenance": [],
      "authorship_tag": "ABX9TyNW/s4nnipnHyt8zesE0FNG"
    },
    "kernelspec": {
      "name": "python3",
      "display_name": "Python 3"
    },
    "language_info": {
      "name": "python"
    }
  },
  "cells": [
    {
      "cell_type": "code",
      "execution_count": null,
      "metadata": {
        "colab": {
          "base_uri": "https://localhost:8080/",
          "height": 256
        },
        "id": "8mVde5HsOB_p",
        "outputId": "39207720-3658-414a-e32d-0a57455359ce"
      },
      "outputs": [
        {
          "output_type": "execute_result",
          "data": {
            "text/plain": [
              "   meanfreq        sd    median       Q25       Q75       IQR       skew  \\\n",
              "0  0.059781  0.064241  0.032027  0.015071  0.090193  0.075122  12.863462   \n",
              "1  0.066009  0.067310  0.040229  0.019414  0.092666  0.073252  22.423285   \n",
              "2  0.077316  0.083829  0.036718  0.008701  0.131908  0.123207  30.757155   \n",
              "3  0.151228  0.072111  0.158011  0.096582  0.207955  0.111374   1.232831   \n",
              "4  0.135120  0.079146  0.124656  0.078720  0.206045  0.127325   1.101174   \n",
              "\n",
              "          kurt    sp.ent       sfm  ...  centroid   meanfun    minfun  \\\n",
              "0   274.402906  0.893369  0.491918  ...  0.059781  0.084279  0.015702   \n",
              "1   634.613855  0.892193  0.513724  ...  0.066009  0.107937  0.015826   \n",
              "2  1024.927705  0.846389  0.478905  ...  0.077316  0.098706  0.015656   \n",
              "3     4.177296  0.963322  0.727232  ...  0.151228  0.088965  0.017798   \n",
              "4     4.333713  0.971955  0.783568  ...  0.135120  0.106398  0.016931   \n",
              "\n",
              "     maxfun   meandom    mindom    maxdom   dfrange   modindx  label  \n",
              "0  0.275862  0.007812  0.007812  0.007812  0.000000  0.000000   male  \n",
              "1  0.250000  0.009014  0.007812  0.054688  0.046875  0.052632   male  \n",
              "2  0.271186  0.007990  0.007812  0.015625  0.007812  0.046512   male  \n",
              "3  0.250000  0.201497  0.007812  0.562500  0.554688  0.247119   male  \n",
              "4  0.266667  0.712812  0.007812  5.484375  5.476562  0.208274   male  \n",
              "\n",
              "[5 rows x 21 columns]"
            ],
            "text/html": [
              "\n",
              "  <div id=\"df-6c0b9d44-852d-494c-aad7-69e170c1d355\" class=\"colab-df-container\">\n",
              "    <div>\n",
              "<style scoped>\n",
              "    .dataframe tbody tr th:only-of-type {\n",
              "        vertical-align: middle;\n",
              "    }\n",
              "\n",
              "    .dataframe tbody tr th {\n",
              "        vertical-align: top;\n",
              "    }\n",
              "\n",
              "    .dataframe thead th {\n",
              "        text-align: right;\n",
              "    }\n",
              "</style>\n",
              "<table border=\"1\" class=\"dataframe\">\n",
              "  <thead>\n",
              "    <tr style=\"text-align: right;\">\n",
              "      <th></th>\n",
              "      <th>meanfreq</th>\n",
              "      <th>sd</th>\n",
              "      <th>median</th>\n",
              "      <th>Q25</th>\n",
              "      <th>Q75</th>\n",
              "      <th>IQR</th>\n",
              "      <th>skew</th>\n",
              "      <th>kurt</th>\n",
              "      <th>sp.ent</th>\n",
              "      <th>sfm</th>\n",
              "      <th>...</th>\n",
              "      <th>centroid</th>\n",
              "      <th>meanfun</th>\n",
              "      <th>minfun</th>\n",
              "      <th>maxfun</th>\n",
              "      <th>meandom</th>\n",
              "      <th>mindom</th>\n",
              "      <th>maxdom</th>\n",
              "      <th>dfrange</th>\n",
              "      <th>modindx</th>\n",
              "      <th>label</th>\n",
              "    </tr>\n",
              "  </thead>\n",
              "  <tbody>\n",
              "    <tr>\n",
              "      <th>0</th>\n",
              "      <td>0.059781</td>\n",
              "      <td>0.064241</td>\n",
              "      <td>0.032027</td>\n",
              "      <td>0.015071</td>\n",
              "      <td>0.090193</td>\n",
              "      <td>0.075122</td>\n",
              "      <td>12.863462</td>\n",
              "      <td>274.402906</td>\n",
              "      <td>0.893369</td>\n",
              "      <td>0.491918</td>\n",
              "      <td>...</td>\n",
              "      <td>0.059781</td>\n",
              "      <td>0.084279</td>\n",
              "      <td>0.015702</td>\n",
              "      <td>0.275862</td>\n",
              "      <td>0.007812</td>\n",
              "      <td>0.007812</td>\n",
              "      <td>0.007812</td>\n",
              "      <td>0.000000</td>\n",
              "      <td>0.000000</td>\n",
              "      <td>male</td>\n",
              "    </tr>\n",
              "    <tr>\n",
              "      <th>1</th>\n",
              "      <td>0.066009</td>\n",
              "      <td>0.067310</td>\n",
              "      <td>0.040229</td>\n",
              "      <td>0.019414</td>\n",
              "      <td>0.092666</td>\n",
              "      <td>0.073252</td>\n",
              "      <td>22.423285</td>\n",
              "      <td>634.613855</td>\n",
              "      <td>0.892193</td>\n",
              "      <td>0.513724</td>\n",
              "      <td>...</td>\n",
              "      <td>0.066009</td>\n",
              "      <td>0.107937</td>\n",
              "      <td>0.015826</td>\n",
              "      <td>0.250000</td>\n",
              "      <td>0.009014</td>\n",
              "      <td>0.007812</td>\n",
              "      <td>0.054688</td>\n",
              "      <td>0.046875</td>\n",
              "      <td>0.052632</td>\n",
              "      <td>male</td>\n",
              "    </tr>\n",
              "    <tr>\n",
              "      <th>2</th>\n",
              "      <td>0.077316</td>\n",
              "      <td>0.083829</td>\n",
              "      <td>0.036718</td>\n",
              "      <td>0.008701</td>\n",
              "      <td>0.131908</td>\n",
              "      <td>0.123207</td>\n",
              "      <td>30.757155</td>\n",
              "      <td>1024.927705</td>\n",
              "      <td>0.846389</td>\n",
              "      <td>0.478905</td>\n",
              "      <td>...</td>\n",
              "      <td>0.077316</td>\n",
              "      <td>0.098706</td>\n",
              "      <td>0.015656</td>\n",
              "      <td>0.271186</td>\n",
              "      <td>0.007990</td>\n",
              "      <td>0.007812</td>\n",
              "      <td>0.015625</td>\n",
              "      <td>0.007812</td>\n",
              "      <td>0.046512</td>\n",
              "      <td>male</td>\n",
              "    </tr>\n",
              "    <tr>\n",
              "      <th>3</th>\n",
              "      <td>0.151228</td>\n",
              "      <td>0.072111</td>\n",
              "      <td>0.158011</td>\n",
              "      <td>0.096582</td>\n",
              "      <td>0.207955</td>\n",
              "      <td>0.111374</td>\n",
              "      <td>1.232831</td>\n",
              "      <td>4.177296</td>\n",
              "      <td>0.963322</td>\n",
              "      <td>0.727232</td>\n",
              "      <td>...</td>\n",
              "      <td>0.151228</td>\n",
              "      <td>0.088965</td>\n",
              "      <td>0.017798</td>\n",
              "      <td>0.250000</td>\n",
              "      <td>0.201497</td>\n",
              "      <td>0.007812</td>\n",
              "      <td>0.562500</td>\n",
              "      <td>0.554688</td>\n",
              "      <td>0.247119</td>\n",
              "      <td>male</td>\n",
              "    </tr>\n",
              "    <tr>\n",
              "      <th>4</th>\n",
              "      <td>0.135120</td>\n",
              "      <td>0.079146</td>\n",
              "      <td>0.124656</td>\n",
              "      <td>0.078720</td>\n",
              "      <td>0.206045</td>\n",
              "      <td>0.127325</td>\n",
              "      <td>1.101174</td>\n",
              "      <td>4.333713</td>\n",
              "      <td>0.971955</td>\n",
              "      <td>0.783568</td>\n",
              "      <td>...</td>\n",
              "      <td>0.135120</td>\n",
              "      <td>0.106398</td>\n",
              "      <td>0.016931</td>\n",
              "      <td>0.266667</td>\n",
              "      <td>0.712812</td>\n",
              "      <td>0.007812</td>\n",
              "      <td>5.484375</td>\n",
              "      <td>5.476562</td>\n",
              "      <td>0.208274</td>\n",
              "      <td>male</td>\n",
              "    </tr>\n",
              "  </tbody>\n",
              "</table>\n",
              "<p>5 rows × 21 columns</p>\n",
              "</div>\n",
              "    <div class=\"colab-df-buttons\">\n",
              "\n",
              "  <div class=\"colab-df-container\">\n",
              "    <button class=\"colab-df-convert\" onclick=\"convertToInteractive('df-6c0b9d44-852d-494c-aad7-69e170c1d355')\"\n",
              "            title=\"Convert this dataframe to an interactive table.\"\n",
              "            style=\"display:none;\">\n",
              "\n",
              "  <svg xmlns=\"http://www.w3.org/2000/svg\" height=\"24px\" viewBox=\"0 -960 960 960\">\n",
              "    <path d=\"M120-120v-720h720v720H120Zm60-500h600v-160H180v160Zm220 220h160v-160H400v160Zm0 220h160v-160H400v160ZM180-400h160v-160H180v160Zm440 0h160v-160H620v160ZM180-180h160v-160H180v160Zm440 0h160v-160H620v160Z\"/>\n",
              "  </svg>\n",
              "    </button>\n",
              "\n",
              "  <style>\n",
              "    .colab-df-container {\n",
              "      display:flex;\n",
              "      gap: 12px;\n",
              "    }\n",
              "\n",
              "    .colab-df-convert {\n",
              "      background-color: #E8F0FE;\n",
              "      border: none;\n",
              "      border-radius: 50%;\n",
              "      cursor: pointer;\n",
              "      display: none;\n",
              "      fill: #1967D2;\n",
              "      height: 32px;\n",
              "      padding: 0 0 0 0;\n",
              "      width: 32px;\n",
              "    }\n",
              "\n",
              "    .colab-df-convert:hover {\n",
              "      background-color: #E2EBFA;\n",
              "      box-shadow: 0px 1px 2px rgba(60, 64, 67, 0.3), 0px 1px 3px 1px rgba(60, 64, 67, 0.15);\n",
              "      fill: #174EA6;\n",
              "    }\n",
              "\n",
              "    .colab-df-buttons div {\n",
              "      margin-bottom: 4px;\n",
              "    }\n",
              "\n",
              "    [theme=dark] .colab-df-convert {\n",
              "      background-color: #3B4455;\n",
              "      fill: #D2E3FC;\n",
              "    }\n",
              "\n",
              "    [theme=dark] .colab-df-convert:hover {\n",
              "      background-color: #434B5C;\n",
              "      box-shadow: 0px 1px 3px 1px rgba(0, 0, 0, 0.15);\n",
              "      filter: drop-shadow(0px 1px 2px rgba(0, 0, 0, 0.3));\n",
              "      fill: #FFFFFF;\n",
              "    }\n",
              "  </style>\n",
              "\n",
              "    <script>\n",
              "      const buttonEl =\n",
              "        document.querySelector('#df-6c0b9d44-852d-494c-aad7-69e170c1d355 button.colab-df-convert');\n",
              "      buttonEl.style.display =\n",
              "        google.colab.kernel.accessAllowed ? 'block' : 'none';\n",
              "\n",
              "      async function convertToInteractive(key) {\n",
              "        const element = document.querySelector('#df-6c0b9d44-852d-494c-aad7-69e170c1d355');\n",
              "        const dataTable =\n",
              "          await google.colab.kernel.invokeFunction('convertToInteractive',\n",
              "                                                    [key], {});\n",
              "        if (!dataTable) return;\n",
              "\n",
              "        const docLinkHtml = 'Like what you see? Visit the ' +\n",
              "          '<a target=\"_blank\" href=https://colab.research.google.com/notebooks/data_table.ipynb>data table notebook</a>'\n",
              "          + ' to learn more about interactive tables.';\n",
              "        element.innerHTML = '';\n",
              "        dataTable['output_type'] = 'display_data';\n",
              "        await google.colab.output.renderOutput(dataTable, element);\n",
              "        const docLink = document.createElement('div');\n",
              "        docLink.innerHTML = docLinkHtml;\n",
              "        element.appendChild(docLink);\n",
              "      }\n",
              "    </script>\n",
              "  </div>\n",
              "\n",
              "\n",
              "<div id=\"df-2caa6b3e-5cb8-45e0-b95f-178989b31466\">\n",
              "  <button class=\"colab-df-quickchart\" onclick=\"quickchart('df-2caa6b3e-5cb8-45e0-b95f-178989b31466')\"\n",
              "            title=\"Suggest charts\"\n",
              "            style=\"display:none;\">\n",
              "\n",
              "<svg xmlns=\"http://www.w3.org/2000/svg\" height=\"24px\"viewBox=\"0 0 24 24\"\n",
              "     width=\"24px\">\n",
              "    <g>\n",
              "        <path d=\"M19 3H5c-1.1 0-2 .9-2 2v14c0 1.1.9 2 2 2h14c1.1 0 2-.9 2-2V5c0-1.1-.9-2-2-2zM9 17H7v-7h2v7zm4 0h-2V7h2v10zm4 0h-2v-4h2v4z\"/>\n",
              "    </g>\n",
              "</svg>\n",
              "  </button>\n",
              "\n",
              "<style>\n",
              "  .colab-df-quickchart {\n",
              "      --bg-color: #E8F0FE;\n",
              "      --fill-color: #1967D2;\n",
              "      --hover-bg-color: #E2EBFA;\n",
              "      --hover-fill-color: #174EA6;\n",
              "      --disabled-fill-color: #AAA;\n",
              "      --disabled-bg-color: #DDD;\n",
              "  }\n",
              "\n",
              "  [theme=dark] .colab-df-quickchart {\n",
              "      --bg-color: #3B4455;\n",
              "      --fill-color: #D2E3FC;\n",
              "      --hover-bg-color: #434B5C;\n",
              "      --hover-fill-color: #FFFFFF;\n",
              "      --disabled-bg-color: #3B4455;\n",
              "      --disabled-fill-color: #666;\n",
              "  }\n",
              "\n",
              "  .colab-df-quickchart {\n",
              "    background-color: var(--bg-color);\n",
              "    border: none;\n",
              "    border-radius: 50%;\n",
              "    cursor: pointer;\n",
              "    display: none;\n",
              "    fill: var(--fill-color);\n",
              "    height: 32px;\n",
              "    padding: 0;\n",
              "    width: 32px;\n",
              "  }\n",
              "\n",
              "  .colab-df-quickchart:hover {\n",
              "    background-color: var(--hover-bg-color);\n",
              "    box-shadow: 0 1px 2px rgba(60, 64, 67, 0.3), 0 1px 3px 1px rgba(60, 64, 67, 0.15);\n",
              "    fill: var(--button-hover-fill-color);\n",
              "  }\n",
              "\n",
              "  .colab-df-quickchart-complete:disabled,\n",
              "  .colab-df-quickchart-complete:disabled:hover {\n",
              "    background-color: var(--disabled-bg-color);\n",
              "    fill: var(--disabled-fill-color);\n",
              "    box-shadow: none;\n",
              "  }\n",
              "\n",
              "  .colab-df-spinner {\n",
              "    border: 2px solid var(--fill-color);\n",
              "    border-color: transparent;\n",
              "    border-bottom-color: var(--fill-color);\n",
              "    animation:\n",
              "      spin 1s steps(1) infinite;\n",
              "  }\n",
              "\n",
              "  @keyframes spin {\n",
              "    0% {\n",
              "      border-color: transparent;\n",
              "      border-bottom-color: var(--fill-color);\n",
              "      border-left-color: var(--fill-color);\n",
              "    }\n",
              "    20% {\n",
              "      border-color: transparent;\n",
              "      border-left-color: var(--fill-color);\n",
              "      border-top-color: var(--fill-color);\n",
              "    }\n",
              "    30% {\n",
              "      border-color: transparent;\n",
              "      border-left-color: var(--fill-color);\n",
              "      border-top-color: var(--fill-color);\n",
              "      border-right-color: var(--fill-color);\n",
              "    }\n",
              "    40% {\n",
              "      border-color: transparent;\n",
              "      border-right-color: var(--fill-color);\n",
              "      border-top-color: var(--fill-color);\n",
              "    }\n",
              "    60% {\n",
              "      border-color: transparent;\n",
              "      border-right-color: var(--fill-color);\n",
              "    }\n",
              "    80% {\n",
              "      border-color: transparent;\n",
              "      border-right-color: var(--fill-color);\n",
              "      border-bottom-color: var(--fill-color);\n",
              "    }\n",
              "    90% {\n",
              "      border-color: transparent;\n",
              "      border-bottom-color: var(--fill-color);\n",
              "    }\n",
              "  }\n",
              "</style>\n",
              "\n",
              "  <script>\n",
              "    async function quickchart(key) {\n",
              "      const quickchartButtonEl =\n",
              "        document.querySelector('#' + key + ' button');\n",
              "      quickchartButtonEl.disabled = true;  // To prevent multiple clicks.\n",
              "      quickchartButtonEl.classList.add('colab-df-spinner');\n",
              "      try {\n",
              "        const charts = await google.colab.kernel.invokeFunction(\n",
              "            'suggestCharts', [key], {});\n",
              "      } catch (error) {\n",
              "        console.error('Error during call to suggestCharts:', error);\n",
              "      }\n",
              "      quickchartButtonEl.classList.remove('colab-df-spinner');\n",
              "      quickchartButtonEl.classList.add('colab-df-quickchart-complete');\n",
              "    }\n",
              "    (() => {\n",
              "      let quickchartButtonEl =\n",
              "        document.querySelector('#df-2caa6b3e-5cb8-45e0-b95f-178989b31466 button');\n",
              "      quickchartButtonEl.style.display =\n",
              "        google.colab.kernel.accessAllowed ? 'block' : 'none';\n",
              "    })();\n",
              "  </script>\n",
              "</div>\n",
              "\n",
              "    </div>\n",
              "  </div>\n"
            ],
            "application/vnd.google.colaboratory.intrinsic+json": {
              "type": "dataframe",
              "variable_name": "df"
            }
          },
          "metadata": {},
          "execution_count": 1
        }
      ],
      "source": [
        "#Import library\n",
        "\n",
        "import pandas as pd\n",
        "import numpy as np\n",
        "import matplotlib.pyplot as plt\n",
        "import seaborn as sns\n",
        "\n",
        "df = pd.read_csv('voice.csv')\n",
        "df.head()"
      ]
    },
    {
      "cell_type": "code",
      "source": [
        "df.info()"
      ],
      "metadata": {
        "colab": {
          "base_uri": "https://localhost:8080/"
        },
        "id": "KnvCB7EbPJvQ",
        "outputId": "58b2e711-62d6-4b09-da2b-1116b8b318ab"
      },
      "execution_count": null,
      "outputs": [
        {
          "output_type": "stream",
          "name": "stdout",
          "text": [
            "<class 'pandas.core.frame.DataFrame'>\n",
            "RangeIndex: 3168 entries, 0 to 3167\n",
            "Data columns (total 21 columns):\n",
            " #   Column    Non-Null Count  Dtype  \n",
            "---  ------    --------------  -----  \n",
            " 0   meanfreq  3168 non-null   float64\n",
            " 1   sd        3168 non-null   float64\n",
            " 2   median    3168 non-null   float64\n",
            " 3   Q25       3168 non-null   float64\n",
            " 4   Q75       3168 non-null   float64\n",
            " 5   IQR       3168 non-null   float64\n",
            " 6   skew      3168 non-null   float64\n",
            " 7   kurt      3168 non-null   float64\n",
            " 8   sp.ent    3168 non-null   float64\n",
            " 9   sfm       3168 non-null   float64\n",
            " 10  mode      3168 non-null   float64\n",
            " 11  centroid  3168 non-null   float64\n",
            " 12  meanfun   3168 non-null   float64\n",
            " 13  minfun    3168 non-null   float64\n",
            " 14  maxfun    3168 non-null   float64\n",
            " 15  meandom   3168 non-null   float64\n",
            " 16  mindom    3168 non-null   float64\n",
            " 17  maxdom    3168 non-null   float64\n",
            " 18  dfrange   3168 non-null   float64\n",
            " 19  modindx   3168 non-null   float64\n",
            " 20  label     3168 non-null   object \n",
            "dtypes: float64(20), object(1)\n",
            "memory usage: 519.9+ KB\n"
          ]
        }
      ]
    },
    {
      "cell_type": "code",
      "source": [
        "df['label'].value_counts()\n",
        "\n",
        "#try to look for balance classes"
      ],
      "metadata": {
        "colab": {
          "base_uri": "https://localhost:8080/"
        },
        "id": "ZcxCL_FYPNQ3",
        "outputId": "80782c70-e2ab-43ef-99cc-8313193f1ebc"
      },
      "execution_count": null,
      "outputs": [
        {
          "output_type": "execute_result",
          "data": {
            "text/plain": [
              "label\n",
              "male      1584\n",
              "female    1584\n",
              "Name: count, dtype: int64"
            ]
          },
          "metadata": {},
          "execution_count": 3
        }
      ]
    },
    {
      "cell_type": "code",
      "source": [
        "from re import X\n",
        "#Define predictor and convert to array\n",
        "X = df.iloc[:, :-1].values\n",
        "\n",
        "#Define the prediction value (y-axis) and convert to array\n",
        "y=df['label'].values"
      ],
      "metadata": {
        "id": "S89WVhXuPSqz"
      },
      "execution_count": null,
      "outputs": []
    },
    {
      "cell_type": "markdown",
      "source": [
        "#What id the y (output) is categorical?\n",
        "\n",
        "**Purpose**\n",
        "\n",
        "The goal here is to convert categorical labels (target variable y) into numerical values. Machine learning models generally require numerical input, so this step is crucial when dealing with categorical labels.\n",
        "\n",
        "we will be using the 'fit_transform' function\n",
        "How fit_transform( ) Works:\n",
        "\n",
        "Fit: The fit( ) method identifies all unique classes in the target variable. Transform: The transform( ) method then converts each class label to a corresponding integer value.\n",
        "\n",
        "For example, if the labels are ['cat', 'dog', 'mouse'], the LabelEncoder might transform them to [0, 1, 2].\n",
        "\n",
        "In summary, the fit_transform() method is used to prepare data for machine learning models by scaling features and encoding labels, ensuring the data is in a suitable format for training."
      ],
      "metadata": {
        "id": "VyrrYgIqPtln"
      }
    },
    {
      "cell_type": "code",
      "source": [
        "#Import Library\n",
        "\n",
        "from sklearn.preprocessing import LabelEncoder, StandardScaler\n",
        "\n",
        "#data normalization for feature (X)\n",
        "normal_X = StandardScaler()\n",
        "X= normal_X.fit_transform(X)\n",
        "\n",
        "#Data normalization for feature (X)\n",
        "normal_X = StandardScaler()\n",
        "y= normal_X.fit_transform(X)\n",
        "\n",
        "#Endcoding\n",
        "#Converting categorical data to numerical or binary (0,1)\n",
        "encod_y = LabelEncoder()\n",
        "y = encod_y.fit_transform(df['label'])\n",
        "\n",
        "X[:5]"
      ],
      "metadata": {
        "colab": {
          "base_uri": "https://localhost:8080/"
        },
        "id": "0BE4ei7PPmrX",
        "outputId": "96b53c46-38ec-4889-88bc-6acb280dbc63"
      },
      "execution_count": null,
      "outputs": [
        {
          "output_type": "execute_result",
          "data": {
            "text/plain": [
              "array([[-4.04924806,  0.4273553 , -4.22490077, -2.57610164, -5.69360723,\n",
              "        -0.21477826,  2.29330585,  1.76294635, -0.03908279,  0.4715753 ,\n",
              "        -2.14121031, -4.04924806, -1.81203825, -1.0979981 ,  0.56595854,\n",
              "        -1.5642046 , -0.70840431, -1.43142165, -1.41913712, -1.45477229],\n",
              "       [-3.84105325,  0.6116695 , -3.99929342, -2.48688452, -5.58898726,\n",
              "        -0.25848536,  4.54805598,  4.43300778, -0.06523603,  0.59443122,\n",
              "        -2.14121031, -3.84105325, -1.07959443, -1.09153262, -0.29403034,\n",
              "        -1.56191576, -0.70840431, -1.41810716, -1.4058184 , -1.01410294],\n",
              "       [-3.46306647,  1.60384791, -4.09585052, -2.7069865 , -3.92869875,\n",
              "         0.90932569,  6.51365636,  7.32620677, -1.08373029,  0.39826097,\n",
              "        -2.14121031, -3.46306647, -1.36536788, -1.10039656,  0.41048032,\n",
              "        -1.56386648, -0.70840431, -1.42920257, -1.41691733, -1.06534356],\n",
              "       [-0.99215739,  0.89999793, -0.75945371, -0.90141834, -0.7112046 ,\n",
              "         0.63269035, -0.44985837, -0.24009931,  1.51638269,  1.79733981,\n",
              "        -1.05457622, -0.99215739, -1.66696584, -0.98893356, -0.29403034,\n",
              "        -1.1953668 , -0.70840431, -1.27386686, -1.26153232,  0.61428596],\n",
              "       [-1.53064039,  1.32256096, -1.67694793, -1.26839521, -0.79202875,\n",
              "         1.0055881 , -0.48091073, -0.23893987,  1.70833622,  2.11473955,\n",
              "        -0.79051354, -1.53064039, -1.12723346, -1.03401549,  0.26018471,\n",
              "        -0.22165979, -0.70840431,  0.12415445,  0.13693282,  0.28904621]])"
            ]
          },
          "metadata": {},
          "execution_count": 6
        }
      ]
    },
    {
      "cell_type": "code",
      "source": [
        "y"
      ],
      "metadata": {
        "colab": {
          "base_uri": "https://localhost:8080/"
        },
        "id": "XjSSRSsLQjDW",
        "outputId": "e88648fb-43e3-4944-d442-14d7b0db2a12"
      },
      "execution_count": null,
      "outputs": [
        {
          "output_type": "execute_result",
          "data": {
            "text/plain": [
              "array([1, 1, 1, ..., 0, 0, 0])"
            ]
          },
          "metadata": {},
          "execution_count": 7
        }
      ]
    },
    {
      "cell_type": "code",
      "source": [
        "# Train test split\n",
        "\n",
        "from sklearn.model_selection import train_test_split\n",
        "\n",
        "X_train, X_test, y_train, y_test = train_test_split(X, y, test_size=0.2, random_state=0)\n",
        "\n",
        "#check the train data\n",
        "X_train.shape"
      ],
      "metadata": {
        "colab": {
          "base_uri": "https://localhost:8080/"
        },
        "id": "zj3enHNkRFiy",
        "outputId": "55312065-1015-464a-caec-97a5ec29aeed"
      },
      "execution_count": null,
      "outputs": [
        {
          "output_type": "execute_result",
          "data": {
            "text/plain": [
              "(2534, 20)"
            ]
          },
          "metadata": {},
          "execution_count": 9
        }
      ]
    },
    {
      "cell_type": "code",
      "source": [
        "#modeling with SVM (RBF)\n",
        "\n",
        "#Import libraries\n",
        "from sklearn.svm import SVC\n",
        "from sklearn.metrics import confusion_matrix, accuracy_score\n",
        "\n",
        "SVM_voice = SVC() #If you don't add parameter it will run kernal as 'rbf'\n",
        "\n",
        "#train the model\n",
        "SVM_voice.fit(X_train, y_train)\n",
        "\n",
        "#Predict the test set results\n",
        "y_hat = SVM_voice.predict(X_test)\n",
        "\n",
        "#Evaluation\n",
        "print('The accuracy based on RBF kernel is: ', (accuracy_score(y_test, y_hat))*100)"
      ],
      "metadata": {
        "colab": {
          "base_uri": "https://localhost:8080/"
        },
        "id": "sptHCA5_RiG5",
        "outputId": "08d1e915-6f6f-403a-f683-135092cf0c37"
      },
      "execution_count": null,
      "outputs": [
        {
          "output_type": "stream",
          "name": "stdout",
          "text": [
            "The accuracy based on RBF kernel is:  98.42271293375394\n"
          ]
        }
      ]
    },
    {
      "cell_type": "code",
      "source": [
        "#modeling using SVM (Linear)\n",
        "\n",
        "SVM_voice = SVC(kernel = 'linear') #If you don't add parameter it will run kernal as 'rbf'\n",
        "\n",
        "#train the model\n",
        "SVM_voice.fit(X_train, y_train)\n",
        "\n",
        "#Predict the test set results\n",
        "y_hat = SVM_voice.predict(X_test)\n",
        "\n",
        "#Evaluation\n",
        "print('The accuracy based on Linear kernel is: ', (accuracy_score(y_test, y_hat))*100)"
      ],
      "metadata": {
        "colab": {
          "base_uri": "https://localhost:8080/"
        },
        "id": "Fxd9EFD1SZSq",
        "outputId": "6d432f38-987c-4b6c-ea8c-d40f0c368f38"
      },
      "execution_count": null,
      "outputs": [
        {
          "output_type": "stream",
          "name": "stdout",
          "text": [
            "The accuracy based on Linear kernel is:  97.3186119873817\n"
          ]
        }
      ]
    },
    {
      "cell_type": "code",
      "source": [
        "#modeling with SVM (poly)\n",
        "\n",
        "SVM_voice = SVC(kernel = 'poly') #If you don't add parameter it will run kernal as 'rbf'\n",
        "\n",
        "#train the model\n",
        "SVM_voice.fit(X_train, y_train)\n",
        "\n",
        "#Predict the test set results\n",
        "y_hat = SVM_voice.predict(X_test)\n",
        "\n",
        "#evaluation\n",
        "print('The accuracy based on polynomial kernel is: ', (accuracy_score(y_test, y_hat))*100)"
      ],
      "metadata": {
        "colab": {
          "base_uri": "https://localhost:8080/"
        },
        "id": "Vl1ubSZ1WF5s",
        "outputId": "e96f1406-df0d-44fd-daec-c3ff97b80e14"
      },
      "execution_count": null,
      "outputs": [
        {
          "output_type": "stream",
          "name": "stdout",
          "text": [
            "The accuracy based on polynomial kernel is:  95.89905362776025\n"
          ]
        }
      ]
    },
    {
      "cell_type": "code",
      "source": [
        "#modeling with SVM (sigmoid)\n",
        "\n",
        "SVM_voice = SVC(kernel = 'sigmoid') #If you don't add parameter it will run kernal as 'rbf'\n",
        "\n",
        "#train the model\n",
        "SVM_voice.fit(X_train, y_train)\n",
        "\n",
        "#Prediction\n",
        "y_hat = SVM_voice.predict(X_test)\n",
        "\n",
        "#evaluation\n",
        "print('The accuracy based on sigmoid kernel is: ', (accuracy_score(y_test, y_hat))*100)"
      ],
      "metadata": {
        "colab": {
          "base_uri": "https://localhost:8080/"
        },
        "id": "f6v5TAcpWiSy",
        "outputId": "a1659238-973c-4b18-8637-d51464d8b294"
      },
      "execution_count": null,
      "outputs": [
        {
          "output_type": "stream",
          "name": "stdout",
          "text": [
            "The accuracy based on sigmoid kernel is:  79.02208201892745\n"
          ]
        }
      ]
    },
    {
      "cell_type": "markdown",
      "source": [
        "## Cross Validation\n",
        "### Why Cross Validate?\n",
        "\n",
        "* cross-validation is a valuable technique for model evaluation, selection, and tuning. It helps ensure that a model performs well on unseen data, provides a more accurate estimate of its performance, and aids in making data-driven decisions about model selection and parameter tuning.\n",
        "\n",
        "### How to Code?\n",
        "\n",
        "* **cross_val_score**: This function evaluates a model's performance using cross-validation. Cross-validation is a technique used to assess the generalizability of a model by partitioning the data into training and validation sets multiple times.\n",
        "\n",
        "**Purpose of the Code**\n",
        "\n",
        "* The primary goal of this code is to evaluate the performance and generalizability of the SVM model (SVM_voice) on the given dataset (X and y). By using cross-validation, the model's performance is assessed more reliably, as it reduces the risk of overfitting and provides a better estimate of how the model will perform on unseen data.\n",
        "\n",
        "* The verbose=2 parameter helps monitor the process by providing detailed information about the progress of the cross-validation and the performance in each fold. This can be useful for debugging and understanding how well the model is performing at each step."
      ],
      "metadata": {
        "id": "5pQvY-WDXGFP"
      }
    },
    {
      "cell_type": "code",
      "source": [
        "from sklearn.model_selection import cross_val_score\n",
        "\n",
        "SVM_voice = SVC()\n",
        "\n",
        "mean_accuracy = cross_val_score(SVM_voice, X, y, cv=5, scoring='accuracy', verbose=2) #verbose is 0,1,2(2 is to see the process)\n",
        "\n",
        "print('The total number of accuracy are: ', mean_accuracy)\n",
        "print('')\n",
        "print('The average of all is: ', (np.mean(mean_accuracy))*100)"
      ],
      "metadata": {
        "colab": {
          "base_uri": "https://localhost:8080/"
        },
        "id": "rcdvLeZaW_yZ",
        "outputId": "f21f69ef-c3da-4fe3-add7-90d667ad5faa"
      },
      "execution_count": null,
      "outputs": [
        {
          "output_type": "stream",
          "name": "stdout",
          "text": [
            "[CV] END .................................................... total time=   0.2s\n",
            "[CV] END .................................................... total time=   0.2s\n",
            "[CV] END .................................................... total time=   0.1s\n",
            "[CV] END .................................................... total time=   0.2s\n",
            "[CV] END .................................................... total time=   0.1s\n",
            "The total number of accuracy are:  [0.94006309 0.97003155 0.98107256 0.98894155 0.95734597]\n",
            "\n",
            "The average of all is:  96.74909424352516\n"
          ]
        }
      ]
    },
    {
      "cell_type": "code",
      "source": [
        "SVM_voice = SVC(kernel = 'linear')\n",
        "\n",
        "mean_accuracy = cross_val_score(SVM_voice, X, y, cv=5, scoring='accuracy', verbose=2) #verbose is 0,1,2(2 is to see the process)\n",
        "\n",
        "print('The total number of accuracy are: ', mean_accuracy)\n",
        "print('')\n",
        "print('The average of all is: ', (np.mean(mean_accuracy))*100)"
      ],
      "metadata": {
        "colab": {
          "base_uri": "https://localhost:8080/"
        },
        "id": "8wmzqMutX2Zy",
        "outputId": "2bab21f1-c911-495f-f3ac-40a626d8f783"
      },
      "execution_count": null,
      "outputs": [
        {
          "output_type": "stream",
          "name": "stdout",
          "text": [
            "[CV] END .................................................... total time=   0.1s\n",
            "[CV] END .................................................... total time=   0.1s\n",
            "[CV] END .................................................... total time=   0.1s\n",
            "[CV] END .................................................... total time=   0.1s\n",
            "[CV] END .................................................... total time=   0.1s\n",
            "The total number of accuracy are:  [0.92902208 0.97791798 0.97318612 0.98262243 0.97314376]\n",
            "\n",
            "The average of all is:  96.71784751396632\n"
          ]
        }
      ]
    },
    {
      "cell_type": "code",
      "source": [
        "SVM_voice = SVC(kernel='poly')\n",
        "\n",
        "mean_accuracy = cross_val_score(SVM_voice, X, y, cv=5, scoring='accuracy', verbose=2) #verbose is 0,1,2(2 is to see the process)\n",
        "\n",
        "print('The total number of accuracy are: ', mean_accuracy)\n",
        "print('')\n",
        "print('The average of all is: ', (np.mean(mean_accuracy))*100)"
      ],
      "metadata": {
        "colab": {
          "base_uri": "https://localhost:8080/"
        },
        "id": "JfL_6jAFYYvO",
        "outputId": "8d39e9d7-f8d7-4b7b-d25c-5e93396bd2fc"
      },
      "execution_count": null,
      "outputs": [
        {
          "output_type": "stream",
          "name": "stdout",
          "text": [
            "[CV] END .................................................... total time=   0.3s\n",
            "[CV] END .................................................... total time=   0.2s\n",
            "[CV] END .................................................... total time=   0.3s\n",
            "[CV] END .................................................... total time=   0.4s\n",
            "[CV] END .................................................... total time=   0.3s\n",
            "The total number of accuracy are:  [0.90851735 0.92271293 0.97160883 0.96840442 0.92575039]\n",
            "\n",
            "The average of all is:  93.93987870089354\n"
          ]
        }
      ]
    },
    {
      "cell_type": "code",
      "source": [
        "SVM_voice = SVC(kernel='sigmoid')\n",
        "\n",
        "mean_accuracy = cross_val_score(SVM_voice, X, y, cv=5, scoring='accuracy', verbose=2) #verbose is 0,1,2(2 is to see the process)\n",
        "\n",
        "print('The total number of accuracy are: ', mean_accuracy)\n",
        "print('')\n",
        "print('The average of all is: ', (np.mean(mean_accuracy))*100)\n"
      ],
      "metadata": {
        "colab": {
          "base_uri": "https://localhost:8080/"
        },
        "id": "wE6MCYCDZxWT",
        "outputId": "5459eeb9-1c5c-476f-97d0-7f2d76467f02"
      },
      "execution_count": null,
      "outputs": [
        {
          "output_type": "stream",
          "name": "stdout",
          "text": [
            "[CV] END .................................................... total time=   0.3s\n",
            "[CV] END .................................................... total time=   0.3s\n",
            "[CV] END .................................................... total time=   0.3s\n",
            "[CV] END .................................................... total time=   0.5s\n",
            "[CV] END .................................................... total time=   0.5s\n",
            "The total number of accuracy are:  [0.70347003 0.85804416 0.84227129 0.77567141 0.70616114]\n",
            "\n",
            "The average of all is:  77.71236064805817\n"
          ]
        }
      ]
    },
    {
      "cell_type": "markdown",
      "source": [
        "**Purpose and Goals (Kenapa Kita Buat Semua Ni?) **\n",
        "\n",
        "* Awal-awal tadi dia ajar run model sekali (just once), tapi this dia ajar untuk model run a few times and bagi the average accuracy.\n",
        "* Model Evaluation: The primary goal is to assess the generalizability of the SVM model by evaluating its performance across different subsets of the data. Cross-validation provides a more reliable estimate of the model's accuracy than a single train-test split.\n",
        "*Performance Metrics: The code calculates and prints the accuracy for each fold and the average accuracy, providing insights into the model's performance consistency and overall effectiveness.\n",
        "*Prevent Overfitting: By using cross-validation, the code helps prevent overfitting, ensuring that the model is not just learning noise from the training data but can generalize well to unseen data.\n",
        "*Detailed Process Monitoring: The verbose=2 parameter allows for detailed monitoring of the cross-validation process, which can be useful for understanding the model's behavior and debugging purposes."
      ],
      "metadata": {
        "id": "W2aRAx9mZ8CM"
      }
    },
    {
      "cell_type": "code",
      "source": [],
      "metadata": {
        "id": "h7Q92hJwZ2F0"
      },
      "execution_count": null,
      "outputs": []
    }
  ]
}